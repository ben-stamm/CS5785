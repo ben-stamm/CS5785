{
 "cells": [
  {
   "cell_type": "code",
   "execution_count": 1,
   "metadata": {},
   "outputs": [
    {
     "name": "stderr",
     "output_type": "stream",
     "text": [
      "[nltk_data] Downloading package stopwords to\n",
      "[nltk_data]     C:\\Users\\bls24\\AppData\\Roaming\\nltk_data...\n",
      "[nltk_data]   Package stopwords is already up-to-date!\n"
     ]
    }
   ],
   "source": [
    "import numpy as np\n",
    "import pandas as pd\n",
    "import matplotlib.pyplot as plt\n",
    "from sklearn.model_selection import train_test_split\n",
    "import nltk \n",
    "from nltk.stem import PorterStemmer \n",
    "import string\n",
    "from nltk.corpus import stopwords\n",
    "nltk.download('stopwords')\n",
    "from nltk.tokenize import word_tokenize\n",
    "from sklearn.feature_extraction.text import CountVectorizer\n",
    "from sklearn.linear_model import LogisticRegression\n",
    "from sklearn.metrics import f1_score\n",
    "from sklearn import linear_model, feature_extraction, metrics\n",
    "import re"
   ]
  },
  {
   "cell_type": "code",
   "execution_count": 2,
   "metadata": {},
   "outputs": [],
   "source": [
    "train = pd.read_csv(\"train.csv\")\n",
    "test = pd.read_csv(\"test.csv\")"
   ]
  },
  {
   "cell_type": "code",
   "execution_count": 3,
   "metadata": {},
   "outputs": [
    {
     "name": "stdout",
     "output_type": "stream",
     "text": [
      "7613 3263\n"
     ]
    }
   ],
   "source": [
    "print(len(train), len(test)) #number of training and testing data points"
   ]
  },
  {
   "cell_type": "code",
   "execution_count": 4,
   "metadata": {},
   "outputs": [
    {
     "data": {
      "text/plain": [
       "0.4296597924602653"
      ]
     },
     "execution_count": 4,
     "metadata": {},
     "output_type": "execute_result"
    }
   ],
   "source": [
    "len(train[train[\"target\"] == 1]) / len(train) #percentage of real disasters"
   ]
  },
  {
   "cell_type": "code",
   "execution_count": 5,
   "metadata": {},
   "outputs": [],
   "source": [
    "train, developement = train_test_split(train, train_size = .7, test_size = .3)"
   ]
  },
  {
   "cell_type": "code",
   "execution_count": 6,
   "metadata": {},
   "outputs": [],
   "source": [
    "w_tokenizer = nltk.tokenize.WhitespaceTokenizer()\n",
    "from nltk.stem import PorterStemmer\n",
    "ps = PorterStemmer()\n",
    "\n",
    "def lemmatize_text(text):\n",
    "    words_array = w_tokenizer.tokenize(str(text))\n",
    "    return [ps.stem(w) for w in words_array]"
   ]
  },
  {
   "cell_type": "code",
   "execution_count": 7,
   "metadata": {},
   "outputs": [],
   "source": [
    "def stem(dataframe):\n",
    "    dataframe.text.fillna(' ', inplace=True)\n",
    "    dataframe['text'] = dataframe.text.apply(lemmatize_text)\n",
    "    dataframe['text'] = dataframe.text.apply(\" \".join)"
   ]
  },
  {
   "cell_type": "code",
   "execution_count": 8,
   "metadata": {},
   "outputs": [],
   "source": [
    "def clean(dataframe):\n",
    "    tweets=[]\n",
    "    for tweet in dataframe[\"text\"]:\n",
    "        tweet = re.sub(r\"http\\S+\",\"\",tweet)\n",
    "        tweet = re.sub(r\"@[/\\w/]*\",\"\",tweet)\n",
    "        tweets.append(tweet)\n",
    "    dataframe[\"text\"] = tweets"
   ]
  },
  {
   "cell_type": "code",
   "execution_count": 9,
   "metadata": {},
   "outputs": [],
   "source": [
    "stem(train)\n",
    "stem(developement)\n",
    "stem(test)"
   ]
  },
  {
   "cell_type": "code",
   "execution_count": 10,
   "metadata": {},
   "outputs": [],
   "source": [
    "clean(train)\n",
    "clean(developement)\n",
    "clean(test)"
   ]
  },
  {
   "cell_type": "code",
   "execution_count": 11,
   "metadata": {},
   "outputs": [
    {
     "name": "stdout",
     "output_type": "stream",
     "text": [
      "'emergency' count: 8\n",
      "'sinkhole' count: 6\n",
      "'earthquake' count: 4\n",
      "'fire' count: 260\n",
      "'mudslide' count: 11\n",
      "'lightning' count: 5\n",
      "'flood' count: 111\n",
      "'tsunami' count: 27\n",
      "'hurricane' count: 4\n",
      "'tornado' count: 29\n"
     ]
    }
   ],
   "source": [
    "def print_word_count(word):\n",
    "    print(\"'\"+word+\"' count:\",train['text'].str.contains(word).sum())\n",
    "test_words = [\"emergency\",\"sinkhole\",\"earthquake\",\"fire\",\"mudslide\",\\\n",
    "              \"lightning\",\"flood\",\"tsunami\",\"hurricane\",\"tornado\"]\n",
    "for word in test_words:\n",
    "    print_word_count(word)"
   ]
  },
  {
   "cell_type": "code",
   "execution_count": 21,
   "metadata": {},
   "outputs": [],
   "source": [
    "count_vect = feature_extraction.text.CountVectorizer(binary=True, min_df = 4, \\\n",
    "                                                     stop_words = 'english',\\\n",
    "                                                    lowercase=True,\\\n",
    "                                                    strip_accents='ascii')\n",
    "X_train = count_vect.fit_transform(train[\"text\"])\n",
    "y_train = train.target\n",
    "X_developement = count_vect.transform(developement[\"text\"])\n",
    "y_developement = developement.target\n",
    "X_test = count_vect.transform(test[\"text\"])"
   ]
  },
  {
   "cell_type": "code",
   "execution_count": 22,
   "metadata": {},
   "outputs": [
    {
     "data": {
      "text/plain": [
       "(<5329x2225 sparse matrix of type '<class 'numpy.int64'>'\n",
       " \twith 33607 stored elements in Compressed Sparse Row format>,\n",
       " <2284x2225 sparse matrix of type '<class 'numpy.int64'>'\n",
       " \twith 13584 stored elements in Compressed Sparse Row format>)"
      ]
     },
     "execution_count": 22,
     "metadata": {},
     "output_type": "execute_result"
    }
   ],
   "source": [
    "X_train, X_developement"
   ]
  },
  {
   "cell_type": "code",
   "execution_count": 23,
   "metadata": {},
   "outputs": [
    {
     "name": "stdout",
     "output_type": "stream",
     "text": [
      "0.9655475093263112 0.6761277242777496\n"
     ]
    }
   ],
   "source": [
    "clf_no = linear_model.LogisticRegression(penalty='none', max_iter=1500, solver='saga').fit(X_train, y_train)\n",
    "train_pred_no = clf_no.predict(X_train)\n",
    "devel_pred_no = clf_no.predict(X_developement)\n",
    "train_score_no = metrics.f1_score(y_train,train_pred_no)\n",
    "devel_score_no = metrics.f1_score(y_developement,devel_pred_no)\n",
    "print(train_score_no, devel_score_no)"
   ]
  },
  {
   "cell_type": "code",
   "execution_count": 24,
   "metadata": {},
   "outputs": [
    {
     "name": "stdout",
     "output_type": "stream",
     "text": [
      "0.8415199258572751 0.7319195214790646\n"
     ]
    }
   ],
   "source": [
    "clf_l1 = linear_model.LogisticRegression(penalty='l1',max_iter = 1500, solver='saga').fit(X_train, y_train)\n",
    "train_pred_l1 = clf_l1.predict(X_train)\n",
    "devel_pred_l1 = clf_l1.predict(X_developement)\n",
    "train_score_l1 = metrics.f1_score(y_train,train_pred_l1)\n",
    "devel_score_l1 = metrics.f1_score(y_developement,devel_pred_l1)\n",
    "print(train_score_l1, devel_score_l1)"
   ]
  },
  {
   "cell_type": "code",
   "execution_count": 25,
   "metadata": {},
   "outputs": [
    {
     "name": "stdout",
     "output_type": "stream",
     "text": [
      "0.8699676075890791 0.7342047930283224\n"
     ]
    }
   ],
   "source": [
    "clf_l2 = linear_model.LogisticRegression(penalty='l2',max_iter = 1500).fit(X_train, y_train)\n",
    "train_pred_l2 = clf_l2.predict(X_train)\n",
    "devel_pred_l2 = clf_l2.predict(X_developement)\n",
    "train_score_l2 = metrics.f1_score(y_train,train_pred_l2)\n",
    "devel_score_l2 = metrics.f1_score(y_developement,devel_pred_l2)\n",
    "print(train_score_l2, devel_score_l2)"
   ]
  },
  {
   "cell_type": "code",
   "execution_count": 26,
   "metadata": {},
   "outputs": [
    {
     "name": "stdout",
     "output_type": "stream",
     "text": [
      "('prepared', 1520)\n",
      "('mlb', 1289)\n",
      "('feel', 788)\n",
      "('dublin', 656)\n",
      "('hostages', 991)\n",
      "('exp', 735)\n",
      "('tire', 1989)\n",
      "('daughter', 547)\n",
      "('caught', 392)\n",
      "('memori', 1251)\n"
     ]
    }
   ],
   "source": [
    "max_index2 = np.argpartition(clf_l1.coef_[0], -10)[-10:]\n",
    "vocab = [(k, v) for k, v in count_vect.vocabulary_.items()]\n",
    "for num in max_index2:\n",
    "    print(vocab[num])"
   ]
  },
  {
   "cell_type": "code",
   "execution_count": 27,
   "metadata": {},
   "outputs": [],
   "source": [
    "X_train = X_train.toarray()\n",
    "X_developement = X_developement.toarray()\n",
    "n = X_train.shape[0] #tweets\n",
    "d = X_train.shape[1] #words\n",
    "K = 2\n",
    "psis = np.zeros([K,d])\n",
    "phis = np.zeros([K])\n",
    "\n",
    "for k in range(K):\n",
    "    X_k = X_train[y_train == k]\n",
    "    psis[k] = (X_k.sum(axis=0)+1)/(X_k.shape[0]+2)\n",
    "    phis[k] = X_k.shape[0] / float(n)"
   ]
  },
  {
   "cell_type": "code",
   "execution_count": 30,
   "metadata": {},
   "outputs": [],
   "source": [
    "def nb_predictions(x, psis, phis):\n",
    "    n, d = x.shape\n",
    "    x = np.reshape(x, (1, n, d))\n",
    "    psis = np.reshape(psis, (K, 1, d))\n",
    "    psis = psis.clip(1e-14, 1-1e-14)\n",
    "    logpy = np.log(phis).reshape([K,1])\n",
    "    logpxy = x * np.log(psis) + (1-x) * np.log(1-psis)\n",
    "    logpyx = logpxy.sum(axis=2) + logpy\n",
    "    return logpyx.argmax(axis=0).flatten(), logpyx.reshape([K,n])"
   ]
  },
  {
   "cell_type": "code",
   "execution_count": 31,
   "metadata": {},
   "outputs": [
    {
     "name": "stdout",
     "output_type": "stream",
     "text": [
      "Train f1 score: 0.7979846449136276 \n",
      "Devel f1 score: 0.7461318051575931\n"
     ]
    }
   ],
   "source": [
    "idx_train, logpyx_train = nb_predictions(X_train, psis, phis)\n",
    "idx_devel, logpyx_devel = nb_predictions(X_developement, psis, phis)\n",
    "\n",
    "train_score_nb = metrics.f1_score(y_train,idx_train)\n",
    "devel_score_nb = metrics.f1_score(y_developement,idx_devel)\n",
    "\n",
    "print(\"Train f1 score:\", train_score_nb, \"\\nDevel f1 score:\", devel_score_nb)"
   ]
  },
  {
   "cell_type": "code",
   "execution_count": 33,
   "metadata": {},
   "outputs": [],
   "source": [
    "count_vectorizer = feature_extraction.text.CountVectorizer(binary = True,\\\n",
    "                                                           ngram_range = (1,2),\\\n",
    "                                                           min_df = 4,\\\n",
    "                                                           strip_accents='ascii',\\\n",
    "                                                           lowercase=True,\\\n",
    "                                                           stop_words = 'english')\n",
    "X_train = count_vectorizer.fit_transform(train[\"text\"]).toarray()\n",
    "X_devel = count_vectorizer.transform(developement[\"text\"]).toarray()"
   ]
  },
  {
   "cell_type": "code",
   "execution_count": 35,
   "metadata": {},
   "outputs": [
    {
     "name": "stdout",
     "output_type": "stream",
     "text": [
      "867 2225 3092\n",
      "ratio: 0.28040103492884866\n",
      "Example Bigrams: ['polic offic', 'dust storm', 'view download', 'download video', 'panic disco', 'downtown emerg', 'emerg servic', 'servic center', 'chemic depend', 'depend counselor', 'counselor intern']\n"
     ]
    }
   ],
   "source": [
    "unigram_count = 0\n",
    "bigram_count = 0\n",
    "counter = 0\n",
    "example_bigrams = []\n",
    "for index, key in enumerate(count_vectorizer.vocabulary_.keys()):\n",
    "    if(' ' in key):\n",
    "        bigram_count += 1\n",
    "        if (counter <= 10):\n",
    "            example_bigrams.append(key)\n",
    "            counter +=1\n",
    "    else:\n",
    "        unigram_count += 1\n",
    "print(bigram_count, unigram_count, bigram_count+unigram_count)\n",
    "print('ratio:',bigram_count/(unigram_count+bigram_count))\n",
    "print('Example Bigrams:', example_bigrams)"
   ]
  },
  {
   "cell_type": "code",
   "execution_count": 37,
   "metadata": {},
   "outputs": [],
   "source": [
    "clf_l2.fit(X_train, y_train)\n",
    "d = X_train.shape[1] #words\n",
    "psis = np.zeros([K,d])\n",
    "phis = np.zeros([K])\n",
    "for k in range(K):\n",
    "    X_k = X_train[y_train == k]\n",
    "    psis[k] = (X_k.sum(axis=0)+1)/(X_k.shape[0]+2)\n",
    "    phis[k] = X_k.shape[0] / float(n)"
   ]
  },
  {
   "cell_type": "code",
   "execution_count": 38,
   "metadata": {},
   "outputs": [],
   "source": [
    "train_predictions_l2 = clf_l2.predict(X_train)\n",
    "devel_predictions_l2 = clf_l2.predict(X_devel)\n",
    "idx_train, logpyx_train = nb_predictions(X_train, psis, phis)\n",
    "idx_devel, logpyx_devel = nb_predictions(X_devel, psis, phis)"
   ]
  },
  {
   "cell_type": "code",
   "execution_count": 40,
   "metadata": {},
   "outputs": [],
   "source": [
    "train_score_l2 = metrics.f1_score(y_train,train_predictions_l2)\n",
    "devel_score_l2 = metrics.f1_score(y_developement,devel_predictions_l2)\n",
    "train_score_nb = metrics.f1_score(y_train,idx_train)\n",
    "devel_score_nb = metrics.f1_score(y_developement,idx_devel)"
   ]
  },
  {
   "cell_type": "code",
   "execution_count": 41,
   "metadata": {},
   "outputs": [
    {
     "data": {
      "text/html": [
       "<div>\n",
       "<style scoped>\n",
       "    .dataframe tbody tr th:only-of-type {\n",
       "        vertical-align: middle;\n",
       "    }\n",
       "\n",
       "    .dataframe tbody tr th {\n",
       "        vertical-align: top;\n",
       "    }\n",
       "\n",
       "    .dataframe thead th {\n",
       "        text-align: right;\n",
       "    }\n",
       "</style>\n",
       "<table border=\"1\" class=\"dataframe\">\n",
       "  <thead>\n",
       "    <tr style=\"text-align: right;\">\n",
       "      <th></th>\n",
       "      <th>technique</th>\n",
       "      <th>train f1 score</th>\n",
       "      <th>devel f1 score</th>\n",
       "    </tr>\n",
       "  </thead>\n",
       "  <tbody>\n",
       "    <tr>\n",
       "      <th>0</th>\n",
       "      <td>l2</td>\n",
       "      <td>0.874449</td>\n",
       "      <td>0.740579</td>\n",
       "    </tr>\n",
       "    <tr>\n",
       "      <th>1</th>\n",
       "      <td>NB</td>\n",
       "      <td>0.768215</td>\n",
       "      <td>0.705374</td>\n",
       "    </tr>\n",
       "  </tbody>\n",
       "</table>\n",
       "</div>"
      ],
      "text/plain": [
       "  technique  train f1 score  devel f1 score\n",
       "0        l2        0.874449        0.740579\n",
       "1        NB        0.768215        0.705374"
      ]
     },
     "execution_count": 41,
     "metadata": {},
     "output_type": "execute_result"
    }
   ],
   "source": [
    "scores = pd.DataFrame([['l2',train_score_l2,devel_score_l2],['NB',train_score_nb,devel_score_nb]],columns = [\"technique\",\"train f1 score\",\"devel f1 score\"])\n",
    "scores.head()"
   ]
  },
  {
   "cell_type": "code",
   "execution_count": 42,
   "metadata": {},
   "outputs": [],
   "source": [
    "train_df = pd.read_csv(\"train.csv\")\n",
    "train_df.text.fillna(' ', inplace=True)\n",
    "train_df['text'] = train_df.text.apply(lemmatize_text)\n",
    "train_df['text'] = train_df.text.apply(\" \".join)"
   ]
  },
  {
   "cell_type": "code",
   "execution_count": 43,
   "metadata": {},
   "outputs": [],
   "source": [
    "count_vectorizer = feature_extraction.text.CountVectorizer(binary = True,\\\n",
    "                                                           min_df = 10,\\\n",
    "                                                           strip_accents='ascii',\\\n",
    "                                                           lowercase=True,\\\n",
    "                                                           stop_words = 'english')\n",
    "train_vectors = count_vectorizer.fit_transform(train_df[\"text\"])\n",
    "test_vectors = count_vectorizer.transform(test[\"text\"])"
   ]
  },
  {
   "cell_type": "code",
   "execution_count": 44,
   "metadata": {},
   "outputs": [],
   "source": [
    "X_train = train_vectors\n",
    "y_train = train_df.target\n",
    "X_test = test_vectors"
   ]
  },
  {
   "cell_type": "code",
   "execution_count": 45,
   "metadata": {
    "scrolled": true
   },
   "outputs": [
    {
     "name": "stderr",
     "output_type": "stream",
     "text": [
      "C:\\Users\\bls24\\Anaconda3\\lib\\site-packages\\sklearn\\linear_model\\logistic.py:432: FutureWarning: Default solver will be changed to 'lbfgs' in 0.22. Specify a solver to silence this warning.\n",
      "  FutureWarning)\n"
     ]
    }
   ],
   "source": [
    "clf_l2.fit(X_train, y_train)\n",
    "train_predictions_l2 = clf_l2.predict(X_train)\n",
    "test_predictions_l2 = clf_l2.predict(X_test)\n",
    "train_score_l2 = metrics.f1_score(y_train,train_predictions_l2)"
   ]
  },
  {
   "cell_type": "code",
   "execution_count": 48,
   "metadata": {},
   "outputs": [
    {
     "name": "stdout",
     "output_type": "stream",
     "text": [
      "0.8264571054354943\n"
     ]
    }
   ],
   "source": [
    "print(train_score_l2)"
   ]
  },
  {
   "cell_type": "code",
   "execution_count": 47,
   "metadata": {},
   "outputs": [],
   "source": [
    "submission = pd.read_csv(\"sample_submission.csv\")\n",
    "submission[\"target\"] = test_predictions_l2\n",
    "submission.to_csv(\"submission.csv\", index = False)"
   ]
  }
 ],
 "metadata": {
  "kernelspec": {
   "display_name": "Python 3",
   "language": "python",
   "name": "python3"
  },
  "language_info": {
   "codemirror_mode": {
    "name": "ipython",
    "version": 3
   },
   "file_extension": ".py",
   "mimetype": "text/x-python",
   "name": "python",
   "nbconvert_exporter": "python",
   "pygments_lexer": "ipython3",
   "version": "3.7.3"
  }
 },
 "nbformat": 4,
 "nbformat_minor": 2
}
